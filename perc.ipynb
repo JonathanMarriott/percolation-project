{
 "cells": [
  {
   "cell_type": "code",
   "execution_count": 107,
   "metadata": {},
   "outputs": [
    {
     "data": {
      "application/vnd.jupyter.widget-view+json": {
       "model_id": "fa1b40cb708e42e8a9db149b4ccdd1b1",
       "version_major": 2,
       "version_minor": 0
      },
      "text/plain": [
       "interactive(children=(IntSlider(value=50, description='n', min=1), Output()), _dom_classes=('widget-interact',…"
      ]
     },
     "metadata": {},
     "output_type": "display_data"
    }
   ],
   "source": [
    "import networkx as nx\n",
    "import matplotlib.pyplot as plt\n",
    "from scipy.stats import uniform, bernoulli\n",
    "import numpy as np\n",
    "from ipywidgets import interact, interactive, fixed\n",
    "from IPython.display import display\n",
    "%matplotlib inline\n",
    "\n",
    "def gen2dLattice(n):\n",
    "    '''Create a 2n by 2n square graph'''\n",
    "    return nx.grid_2d_graph(range(-n,n+1),range(-n,n+1))\n",
    "\n",
    "def percGraph(n):\n",
    "    G = gen2dLattice(n)\n",
    "    num_edges = nx.number_of_edges(G)\n",
    "\n",
    "    unifRvs = uniform.rvs(size=num_edges) #Create Uniform Rv for each edge\n",
    "\n",
    "    dictUnifRvs = {coord:rv for coord,rv in zip(G.edges,iter(unifRvs))} # Dictionary from edges to their unif rv\n",
    "    nx.set_edge_attributes(G,dictUnifRvs,name=\"unifRv\") # binds the unif rvs to the edges in the graph \n",
    "    return G\n",
    "\n",
    "setup = interactive(percGraph,n=(1,100,1))\n",
    "display(setup)\n",
    "\n",
    "\n",
    "\n",
    "\n"
   ]
  },
  {
   "cell_type": "code",
   "execution_count": 113,
   "metadata": {},
   "outputs": [
    {
     "data": {
      "application/vnd.jupyter.widget-view+json": {
       "model_id": "390dba153b5841a4b636e2b1b059ffc5",
       "version_major": 2,
       "version_minor": 0
      },
      "text/plain": [
       "interactive(children=(FloatSlider(value=0.0, description='p', max=1.0, step=0.05), Output()), _dom_classes=('w…"
      ]
     },
     "metadata": {},
     "output_type": "display_data"
    }
   ],
   "source": [
    "G = setup.result\n",
    "\n",
    "@interact(G=fixed(G),p=(0,1,0.05))\n",
    "def percolate(G,p):\n",
    "\n",
    "    #print(G.edges(data =True))\n",
    "    openEdges = [e for e in G.edges(data=True) if e[2]['unifRv']<=p]\n",
    "    closedEdges = [e for e in G.edges(data=True) if e[2]['unifRv']>p]\n",
    "    #print(openEdges)\n",
    "    #graph plotting\n",
    "    pos = {(x,y):(x,y) for x,y in G.nodes()} #postions nodes in the plane in the normal way\n",
    "    plt.figure(figsize=(10,10))\n",
    "\n",
    "    nx.draw(G, pos= pos, node_size=0, edgelist=closedEdges,edge_color='grey',width=0.5, with_labels=False)\n",
    "    nx.draw(G, pos= pos, node_size=0, edgelist=openEdges,edge_color='red', with_labels=False)\n",
    "    plt.show()"
   ]
  },
  {
   "cell_type": "code",
   "execution_count": null,
   "metadata": {},
   "outputs": [],
   "source": []
  },
  {
   "cell_type": "code",
   "execution_count": null,
   "metadata": {},
   "outputs": [],
   "source": []
  },
  {
   "cell_type": "code",
   "execution_count": null,
   "metadata": {},
   "outputs": [],
   "source": []
  },
  {
   "cell_type": "code",
   "execution_count": null,
   "metadata": {},
   "outputs": [],
   "source": []
  },
  {
   "cell_type": "code",
   "execution_count": null,
   "metadata": {},
   "outputs": [],
   "source": []
  },
  {
   "cell_type": "code",
   "execution_count": null,
   "metadata": {},
   "outputs": [],
   "source": []
  },
  {
   "cell_type": "code",
   "execution_count": null,
   "metadata": {},
   "outputs": [],
   "source": []
  },
  {
   "cell_type": "code",
   "execution_count": null,
   "metadata": {},
   "outputs": [],
   "source": []
  },
  {
   "cell_type": "code",
   "execution_count": null,
   "metadata": {},
   "outputs": [],
   "source": []
  },
  {
   "cell_type": "code",
   "execution_count": null,
   "metadata": {},
   "outputs": [],
   "source": []
  },
  {
   "cell_type": "code",
   "execution_count": null,
   "metadata": {},
   "outputs": [],
   "source": []
  },
  {
   "cell_type": "code",
   "execution_count": null,
   "metadata": {},
   "outputs": [],
   "source": []
  },
  {
   "cell_type": "code",
   "execution_count": null,
   "metadata": {},
   "outputs": [],
   "source": []
  },
  {
   "cell_type": "code",
   "execution_count": null,
   "metadata": {},
   "outputs": [],
   "source": []
  },
  {
   "cell_type": "code",
   "execution_count": null,
   "metadata": {},
   "outputs": [],
   "source": []
  },
  {
   "cell_type": "code",
   "execution_count": null,
   "metadata": {},
   "outputs": [],
   "source": []
  }
 ],
 "metadata": {
  "interpreter": {
   "hash": "6787530bf9925b057af33f954282f7ad07558b12920f3eef54087b2f6236d6d8"
  },
  "kernelspec": {
   "display_name": "Python 3.8.8 64-bit ('base': conda)",
   "language": "python",
   "name": "python3"
  },
  "language_info": {
   "codemirror_mode": {
    "name": "ipython",
    "version": 3
   },
   "file_extension": ".py",
   "mimetype": "text/x-python",
   "name": "python",
   "nbconvert_exporter": "python",
   "pygments_lexer": "ipython3",
   "version": "3.8.8"
  },
  "orig_nbformat": 4
 },
 "nbformat": 4,
 "nbformat_minor": 2
}
