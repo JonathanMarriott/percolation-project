{
 "cells": [
  {
   "cell_type": "code",
   "execution_count": 5,
   "metadata": {},
   "outputs": [],
   "source": [
    "# https://arxiv.org/pdf/cond-mat/0101295.pdf\n",
    "import networkx as nx\n",
    "import matplotlib.pyplot as plt\n",
    "from scipy.stats import uniform, bernoulli\n",
    "import numpy as np\n",
    "from ipywidgets import interact, interactive, fixed\n",
    "from IPython.display import display\n",
    "%matplotlib inline\n",
    "n=0\n",
    "def gen2dLattice(n):\n",
    "    '''Create a 2n by 2n square graph'''\n",
    "    return nx.grid_2d_graph(range(-n,n+1),range(-n,n+1))\n",
    "\n",
    "def percGraph(n):\n",
    "    G = gen2dLattice(n)\n",
    "    num_edges = nx.number_of_edges(G)\n",
    "    unifRvs = uniform.rvs(size=num_edges) #Create Uniform Rv for each edge\n",
    "    dictUnifRvs = {coord:rv for coord,rv in zip(G.edges,iter(unifRvs))} # Dictionary from edges to their unif rv\n",
    "    nx.set_edge_attributes(G,dictUnifRvs,name=\"unifRv\") # binds the unif rvs to the edges in the graph \n",
    "    GAug = G.copy()\n",
    "    GAug.add_node('s') #create aug graph with s and f nodes which connect to the left an right sides resp\n",
    "    GAug.add_node('f')\n",
    "    for i in range(-n,n+1):\n",
    "        GAug.add_edge('s',(-n,i))\n",
    "        GAug.add_edge((n,i),'f')\n",
    "    return G , GAug\n",
    "\n",
    "def find_crossing_path(openEdges,GAug):\n",
    "    '''finds left/right crossing by open edges if one exists\n",
    "    Returns: List of edges on the path\n",
    "    ''' # find the subgraph of open edges plus the aux left right edges\n",
    "    GOpen = nx.edge_subgraph(GAug,list(GAug.edges('f')) + list(GAug.edges('s')) + [(e[0],e[1]) for e in openEdges])\n",
    "    edgepath = []\n",
    "    try:\n",
    "        openPaths = nx.algorithms.shortest_paths.bidirectional_shortest_path(GOpen,'s','f')\n",
    "    except:\n",
    "        openPaths = []\n",
    "    for i in range(len(openPaths)): #Convert from list of nodes to list of edges\n",
    "        edgepath.append((openPaths[i-1],openPaths[i]))\n",
    "    openPaths = edgepath\n",
    "    return openPaths\n",
    "\n",
    "setup = interactive(percGraph,n=(1,50,1))\n"
   ]
  },
  {
   "cell_type": "code",
   "execution_count": 6,
   "metadata": {},
   "outputs": [
    {
     "data": {
      "application/vnd.jupyter.widget-view+json": {
       "model_id": "caadeae082d34515a042b8be91d35772",
       "version_major": 2,
       "version_minor": 0
      },
      "text/plain": [
       "interactive(children=(IntSlider(value=25, description='n', max=50, min=1), Output()), _dom_classes=('widget-in…"
      ]
     },
     "metadata": {},
     "output_type": "display_data"
    },
    {
     "data": {
      "application/vnd.jupyter.widget-view+json": {
       "model_id": "0fde3f9d6d8a448488ef28bbd992e34c",
       "version_major": 2,
       "version_minor": 0
      },
      "text/plain": [
       "interactive(children=(FloatSlider(value=0.0, description='p', max=1.0, step=0.01), Checkbox(value=True, descri…"
      ]
     },
     "metadata": {},
     "output_type": "display_data"
    }
   ],
   "source": [
    "display(setup)\n",
    "@interact(G=fixed(setup.result[0]),p=(0,1,0.01),findCrossing = True)\n",
    "def percolate(G,p,findCrossing = True): \n",
    "    '''finds open/closed edges in G for a given p and displays it'''\n",
    "    G, GAug = setup.result\n",
    "    openEdges = [e for e in G.edges(data=True) if e[2]['unifRv']<=p] #List of edges whose associated Uniform Rv has value <= p \n",
    "    closedEdges = [e for e in G.edges(data=True) if e[2]['unifRv']>p]\n",
    "    pos = {(x,y):(x,y) for x,y in G.nodes()} #postions nodes in the plane in the normal way\n",
    "    if findCrossing:\n",
    "        path = find_crossing_path(openEdges,GAug)\n",
    "    plt.figure(figsize=(8,8))\n",
    "    nx.draw(G, pos= pos, node_size=0, edgelist=closedEdges,edge_color='grey',width=0.5, with_labels=False) #draw closed edges\n",
    "    nx.draw(G, pos= pos, node_size=0, edgelist=openEdges,edge_color='red', with_labels=False) #draw open edges\n",
    "    if findCrossing and path:\n",
    "        path.pop(0)\n",
    "        path.pop(0)\n",
    "        path.pop(-1)\n",
    "        nx.draw(G, pos= pos, node_size=0, edgelist=path,edge_color='green',width=1.5, with_labels=False) #draw open path\n",
    "    plt.show()\n",
    "\n"
   ]
  },
  {
   "cell_type": "code",
   "execution_count": null,
   "metadata": {},
   "outputs": [],
   "source": []
  },
  {
   "cell_type": "code",
   "execution_count": null,
   "metadata": {},
   "outputs": [],
   "source": []
  },
  {
   "cell_type": "code",
   "execution_count": null,
   "metadata": {},
   "outputs": [],
   "source": []
  },
  {
   "cell_type": "code",
   "execution_count": null,
   "metadata": {},
   "outputs": [],
   "source": []
  },
  {
   "cell_type": "code",
   "execution_count": null,
   "metadata": {},
   "outputs": [],
   "source": []
  },
  {
   "cell_type": "code",
   "execution_count": null,
   "metadata": {},
   "outputs": [],
   "source": []
  },
  {
   "cell_type": "code",
   "execution_count": null,
   "metadata": {},
   "outputs": [],
   "source": []
  },
  {
   "cell_type": "code",
   "execution_count": null,
   "metadata": {},
   "outputs": [],
   "source": []
  },
  {
   "cell_type": "code",
   "execution_count": null,
   "metadata": {},
   "outputs": [],
   "source": []
  },
  {
   "cell_type": "code",
   "execution_count": null,
   "metadata": {},
   "outputs": [],
   "source": []
  },
  {
   "cell_type": "code",
   "execution_count": null,
   "metadata": {},
   "outputs": [],
   "source": []
  },
  {
   "cell_type": "code",
   "execution_count": null,
   "metadata": {},
   "outputs": [],
   "source": []
  },
  {
   "cell_type": "code",
   "execution_count": null,
   "metadata": {},
   "outputs": [],
   "source": []
  },
  {
   "cell_type": "code",
   "execution_count": null,
   "metadata": {},
   "outputs": [],
   "source": []
  },
  {
   "cell_type": "code",
   "execution_count": null,
   "metadata": {},
   "outputs": [],
   "source": []
  },
  {
   "cell_type": "code",
   "execution_count": null,
   "metadata": {},
   "outputs": [],
   "source": []
  },
  {
   "cell_type": "code",
   "execution_count": null,
   "metadata": {},
   "outputs": [],
   "source": []
  },
  {
   "cell_type": "code",
   "execution_count": null,
   "metadata": {},
   "outputs": [],
   "source": []
  },
  {
   "cell_type": "code",
   "execution_count": null,
   "metadata": {},
   "outputs": [],
   "source": []
  },
  {
   "cell_type": "code",
   "execution_count": null,
   "metadata": {},
   "outputs": [],
   "source": []
  },
  {
   "cell_type": "code",
   "execution_count": null,
   "metadata": {},
   "outputs": [],
   "source": []
  },
  {
   "cell_type": "code",
   "execution_count": null,
   "metadata": {},
   "outputs": [],
   "source": []
  },
  {
   "cell_type": "code",
   "execution_count": null,
   "metadata": {},
   "outputs": [],
   "source": []
  },
  {
   "cell_type": "code",
   "execution_count": null,
   "metadata": {},
   "outputs": [],
   "source": []
  },
  {
   "cell_type": "code",
   "execution_count": null,
   "metadata": {},
   "outputs": [],
   "source": []
  },
  {
   "cell_type": "code",
   "execution_count": null,
   "metadata": {},
   "outputs": [],
   "source": []
  },
  {
   "cell_type": "code",
   "execution_count": null,
   "metadata": {},
   "outputs": [],
   "source": []
  },
  {
   "cell_type": "code",
   "execution_count": null,
   "metadata": {},
   "outputs": [],
   "source": []
  },
  {
   "cell_type": "code",
   "execution_count": null,
   "metadata": {},
   "outputs": [],
   "source": []
  },
  {
   "cell_type": "code",
   "execution_count": null,
   "metadata": {},
   "outputs": [],
   "source": []
  },
  {
   "cell_type": "code",
   "execution_count": null,
   "metadata": {},
   "outputs": [],
   "source": []
  },
  {
   "cell_type": "code",
   "execution_count": null,
   "metadata": {},
   "outputs": [],
   "source": []
  },
  {
   "cell_type": "code",
   "execution_count": null,
   "metadata": {},
   "outputs": [],
   "source": []
  },
  {
   "cell_type": "code",
   "execution_count": null,
   "metadata": {},
   "outputs": [],
   "source": []
  },
  {
   "cell_type": "code",
   "execution_count": null,
   "metadata": {},
   "outputs": [],
   "source": []
  },
  {
   "cell_type": "code",
   "execution_count": null,
   "metadata": {},
   "outputs": [],
   "source": []
  },
  {
   "cell_type": "code",
   "execution_count": null,
   "metadata": {},
   "outputs": [],
   "source": []
  },
  {
   "cell_type": "code",
   "execution_count": null,
   "metadata": {},
   "outputs": [],
   "source": []
  },
  {
   "cell_type": "code",
   "execution_count": null,
   "metadata": {},
   "outputs": [],
   "source": []
  },
  {
   "cell_type": "code",
   "execution_count": null,
   "metadata": {},
   "outputs": [],
   "source": []
  },
  {
   "cell_type": "code",
   "execution_count": null,
   "metadata": {},
   "outputs": [],
   "source": []
  },
  {
   "cell_type": "code",
   "execution_count": null,
   "metadata": {},
   "outputs": [],
   "source": []
  },
  {
   "cell_type": "code",
   "execution_count": null,
   "metadata": {},
   "outputs": [],
   "source": []
  }
 ],
 "metadata": {
  "interpreter": {
   "hash": "6787530bf9925b057af33f954282f7ad07558b12920f3eef54087b2f6236d6d8"
  },
  "kernelspec": {
   "display_name": "Python 3.8.8 64-bit ('base': conda)",
   "language": "python",
   "name": "python3"
  },
  "language_info": {
   "codemirror_mode": {
    "name": "ipython",
    "version": 3
   },
   "file_extension": ".py",
   "mimetype": "text/x-python",
   "name": "python",
   "nbconvert_exporter": "python",
   "pygments_lexer": "ipython3",
   "version": "3.8.12"
  },
  "orig_nbformat": 4
 },
 "nbformat": 4,
 "nbformat_minor": 2
}
